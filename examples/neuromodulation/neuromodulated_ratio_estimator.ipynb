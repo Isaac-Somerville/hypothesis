{
 "cells": [
  {
   "cell_type": "markdown",
   "metadata": {},
   "source": [
    "# Neuromodulated ratio estimator"
   ]
  },
  {
   "cell_type": "code",
   "execution_count": 1,
   "metadata": {},
   "outputs": [],
   "source": [
    "import torch\n",
    "import hypothesis\n",
    "import matplotlib.pyplot as plt\n",
    "import numpy as np\n",
    "\n",
    "from torch.distributions.normal import Normal\n",
    "from torch.distributions.uniform import Uniform\n",
    "from hypothesis.visualization.util import make_square"
   ]
  },
  {
   "cell_type": "markdown",
   "metadata": {},
   "source": [
    "## Forward model and prior"
   ]
  },
  {
   "cell_type": "code",
   "execution_count": 2,
   "metadata": {},
   "outputs": [],
   "source": [
    "prior = Uniform(-10, 10)"
   ]
  },
  {
   "cell_type": "code",
   "execution_count": 3,
   "metadata": {},
   "outputs": [],
   "source": [
    "def simulate(inputs):\n",
    "    return Normal(inputs, 1).sample().view(-1, 1).detach()"
   ]
  },
  {
   "cell_type": "markdown",
   "metadata": {},
   "source": [
    "## Controller architecture"
   ]
  },
  {
   "cell_type": "code",
   "execution_count": 4,
   "metadata": {},
   "outputs": [],
   "source": [
    "def allocate_controller(hidden=64):\n",
    "    controller = torch.nn.Sequential(\n",
    "        torch.nn.Linear(1, hidden),\n",
    "        torch.nn.LeakyReLU(),\n",
    "        torch.nn.Linear(hidden, hidden),\n",
    "        torch.nn.LeakyReLU(),\n",
    "        torch.nn.Linear(hidden, 1))\n",
    "    \n",
    "    return controller"
   ]
  },
  {
   "cell_type": "markdown",
   "metadata": {},
   "source": [
    "## Modulated ratio estimator architecture"
   ]
  },
  {
   "cell_type": "code",
   "execution_count": 5,
   "metadata": {},
   "outputs": [],
   "source": [
    "from hypothesis.nn.conditional_ratio_estimator import BaseConditionalRatioEstimator\n",
    "from hypothesis.nn.neuromodulation import ModulatedReLU\n",
    "\n",
    "\n",
    "\n",
    "class ModulatedRatioEstimator(BaseConditionalRatioEstimator):\n",
    "    \n",
    "    def __init__(self, layers=(64, 64, 64)):\n",
    "        super(ModulatedRatioEstimator, self).__init__()\n",
    "        # Build the model\n",
    "        activations = []\n",
    "        mappings = []\n",
    "        mappings.append(torch.nn.Linear(1, layers[0]))\n",
    "        for index in range(len(layers)):\n",
    "            activation = ModulatedReLU(allocate_controller())\n",
    "            activations.append(activation)\n",
    "            mappings.append(activation)\n",
    "            mappings.append(torch.nn.Linear(\n",
    "                layers[index - 1], layers[index]))\n",
    "        activation = ModulatedReLU(allocate_controller())\n",
    "        activations.append(activation)\n",
    "        mappings.append(activation)\n",
    "        mappings.append(torch.nn.Linear(layers[-1], 1))\n",
    "        # Network properties\n",
    "        self.activations = activations\n",
    "        self.model = torch.nn.Sequential(*mappings)\n",
    "        \n",
    "    def forward(self, inputs, outputs):\n",
    "        log_ratios = self.log_ratio(inputs, outputs)\n",
    "        \n",
    "        return log_ratios.sigmoid(), log_ratios\n",
    "    \n",
    "    def log_ratio(self, inputs, outputs):\n",
    "        # Update activation controller context\n",
    "        for activation in self.activations:\n",
    "            activation.update(inputs)\n",
    "        log_ratios = self.model(outputs)\n",
    "        \n",
    "        return log_ratios"
   ]
  },
  {
   "cell_type": "markdown",
   "metadata": {},
   "source": [
    "## Training"
   ]
  },
  {
   "cell_type": "code",
   "execution_count": 6,
   "metadata": {},
   "outputs": [],
   "source": [
    "from hypothesis.nn.conditional_ratio_estimator import ConditionalRatioEstimatorCriterion as Criterion\n",
    "from hypothesis.util.data import SimulatorDataset\n",
    "from torch.utils.data import DataLoader\n",
    "\n",
    "layers = (128, 128, 128)\n",
    "dataset_size = 1000000\n",
    "batch_size = 256\n",
    "epochs = 10\n",
    "\n",
    "dataset = SimulatorDataset(simulate, prior, size=dataset_size)"
   ]
  },
  {
   "cell_type": "markdown",
   "metadata": {},
   "source": [
    "### Training of the modulated ratio estimator"
   ]
  },
  {
   "cell_type": "code",
   "execution_count": 7,
   "metadata": {},
   "outputs": [
    {
     "name": "stdout",
     "output_type": "stream",
     "text": [
      "Training completed!\n"
     ]
    }
   ],
   "source": [
    "modulated_ratio_estimator = ModulatedRatioEstimator(layers=layers)\n",
    "modulated_ratio_estimator = modulated_ratio_estimator.to(hypothesis.accelerator)\n",
    "modulated_ratio_estimator.train()\n",
    "criterion = Criterion(modulated_ratio_estimator, batch_size).to(hypothesis.accelerator)\n",
    "optimizer = torch.optim.Adam(modulated_ratio_estimator.parameters(), amsgrad=True)\n",
    "losses = []\n",
    "for epoch in range(epochs):\n",
    "    data_loader = DataLoader(dataset, num_workers=4, shuffle=True, batch_size=batch_size, drop_last=True)\n",
    "    for inputs, outputs in data_loader:\n",
    "        inputs = inputs.to(hypothesis.accelerator).view(-1, 1)\n",
    "        outputs = outputs.to(hypothesis.accelerator).view(-1, 1)\n",
    "        loss = criterion(inputs, outputs)\n",
    "        optimizer.zero_grad()\n",
    "        loss.backward()\n",
    "        losses.append(loss.item())\n",
    "        optimizer.step()\n",
    "modulated_ratio_estimator = modulated_ratio_estimator.cpu()\n",
    "modulated_ratio_estimator.eval()\n",
    "\n",
    "print(\"Training completed!\")"
   ]
  },
  {
   "cell_type": "code",
   "execution_count": 8,
   "metadata": {},
   "outputs": [
    {
     "data": {
      "image/png": "[encoded data removed]",
      "text/plain": [
       "<Figure size 432x288 with 1 Axes>"
      ]
     },
     "metadata": {
      "needs_background": "light"
     },
     "output_type": "display_data"
    }
   ],
   "source": [
    "losses = np.array(losses)\n",
    "plt.title(\"Neuromodulated ratio estimator loss\")\n",
    "plt.plot(range(len(losses)), losses, lw=2, color=\"black\")\n",
    "plt.ylim([0.7, 3])\n",
    "make_square(plt.gca())\n",
    "plt.show()"
   ]
  },
  {
   "cell_type": "markdown",
   "metadata": {},
   "source": [
    "### Training of the traditional ratio estimator"
   ]
  },
  {
   "cell_type": "code",
   "execution_count": 9,
   "metadata": {},
   "outputs": [
    {
     "name": "stdout",
     "output_type": "stream",
     "text": [
      "Training completed!\n"
     ]
    }
   ],
   "source": [
    "from hypothesis.nn import ConditionalMLPRatioEstimator as MLPRatioEstimator\n",
    "\n",
    "traditional_ratio_estimator = MLPRatioEstimator(shape_inputs=(1,), shape_outputs=(1,), layers=layers, activation=torch.nn.ReLU)\n",
    "traditional_ratio_estimator = traditional_ratio_estimator.to(hypothesis.accelerator)\n",
    "traditional_ratio_estimator.train()\n",
    "criterion = Criterion(traditional_ratio_estimator, batch_size).to(hypothesis.accelerator)\n",
    "optimizer = torch.optim.Adam(traditional_ratio_estimator.parameters(), amsgrad=True)\n",
    "losses = []\n",
    "for epoch in range(epochs):\n",
    "    data_loader = DataLoader(dataset, num_workers=4, shuffle=True, batch_size=batch_size, drop_last=True)\n",
    "    for inputs, outputs in data_loader:\n",
    "        inputs = inputs.to(hypothesis.accelerator).view(-1, 1)\n",
    "        outputs = outputs.to(hypothesis.accelerator).view(-1, 1)\n",
    "        loss = criterion(inputs, outputs)\n",
    "        optimizer.zero_grad()\n",
    "        loss.backward()\n",
    "        losses.append(loss.item())\n",
    "        optimizer.step()\n",
    "traditional_ratio_estimator = traditional_ratio_estimator.cpu()\n",
    "traditional_ratio_estimator.eval()\n",
    "\n",
    "print(\"Training completed!\")"
   ]
  },
  {
   "cell_type": "code",
   "execution_count": 10,
   "metadata": {},
   "outputs": [
    {
     "data": {
      "image/png": "[encoded data removed]",
      "text/plain": [
       "<Figure size 432x288 with 1 Axes>"
      ]
     },
     "metadata": {
      "needs_background": "light"
     },
     "output_type": "display_data"
    }
   ],
   "source": [
    "losses = np.array(losses)\n",
    "plt.title(\"Traditional ratio estimator loss\")\n",
    "plt.plot(range(len(losses)), losses, lw=2, color=\"black\")\n",
    "plt.minorticks_on()\n",
    "make_square(plt.gca())\n",
    "plt.ylim([0.7, 3])\n",
    "plt.show()"
   ]
  },
  {
   "cell_type": "markdown",
   "metadata": {},
   "source": [
    "## Inference"
   ]
  },
  {
   "cell_type": "code",
   "execution_count": 11,
   "metadata": {},
   "outputs": [],
   "source": [
    "truth = float(0)\n",
    "observation = simulate(torch.tensor(truth)).view(-1, 1)\n",
    "resolution = 1000\n",
    "observations = observation.repeat(resolution, 1).view(-1, 1)\n",
    "thetas = torch.linspace(-10, 10, 1000).view(-1, 1)"
   ]
  },
  {
   "cell_type": "markdown",
   "metadata": {},
   "source": [
    "### Modulated ratio estimator"
   ]
  },
  {
   "cell_type": "code",
   "execution_count": 12,
   "metadata": {},
   "outputs": [
    {
     "data": {
      "image/png": "[encoded data removed]",
      "text/plain": [
       "<Figure size 432x288 with 1 Axes>"
      ]
     },
     "metadata": {
      "needs_background": "light"
     },
     "output_type": "display_data"
    }
   ],
   "source": [
    "log_ratios = modulated_ratio_estimator.log_ratio(thetas, observations)\n",
    "\n",
    "plt.plot(thetas.numpy(), log_ratios.exp().detach().numpy(), lw=2, color=\"black\")\n",
    "plt.axvline(observation.numpy(), color=\"red\", lw=2)\n",
    "plt.minorticks_on()\n",
    "make_square(plt.gca())\n",
    "plt.show()"
   ]
  },
  {
   "cell_type": "markdown",
   "metadata": {},
   "source": [
    "### Traditional ratio estimator"
   ]
  },
  {
   "cell_type": "code",
   "execution_count": 13,
   "metadata": {},
   "outputs": [
    {
     "data": {
      "image/png": "[encoded data removed]",
      "text/plain": [
       "<Figure size 432x288 with 1 Axes>"
      ]
     },
     "metadata": {
      "needs_background": "light"
     },
     "output_type": "display_data"
    }
   ],
   "source": [
    "log_ratios = traditional_ratio_estimator.log_ratio(thetas, observations)\n",
    "\n",
    "plt.plot(thetas.numpy(), log_ratios.exp().detach().numpy(), lw=2, color=\"black\")\n",
    "plt.axvline(observation.numpy(), color=\"red\", lw=2)\n",
    "plt.minorticks_on()\n",
    "make_square(plt.gca())\n",
    "plt.show()"
   ]
  }
 ],
 "metadata": {
  "kernelspec": {
   "display_name": "Python 3",
   "language": "python",
   "name": "python3"
  },
  "language_info": {
   "codemirror_mode": {
    "name": "ipython",
    "version": 3
   },
   "file_extension": ".py",
   "mimetype": "text/x-python",
   "name": "python",
   "nbconvert_exporter": "python",
   "pygments_lexer": "ipython3",
   "version": "3.7.3"
  }
 },
 "nbformat": 4,
 "nbformat_minor": 4
}
